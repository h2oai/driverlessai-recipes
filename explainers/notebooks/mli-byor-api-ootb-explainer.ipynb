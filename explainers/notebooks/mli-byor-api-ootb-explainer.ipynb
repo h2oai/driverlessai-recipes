{
 "cells": [
  {
   "cell_type": "markdown",
   "metadata": {},
   "source": [
    "# Driverless AI MLI BYOR: Built-in Explainers\n",
    "\n",
    "Driverless AI provides robust interpretability of machine learning models\n",
    "to explain modeling results in a human-readable format. In the \n",
    "Machine Learning Interpetability (MLI) view, Driverless AI offers various\n",
    "techniques and methodologies for interpreting and explaining the results\n",
    "of its models. These techniques are implemented as extensible set of recipes.\n",
    "\n",
    "This notebook demonstrates how to list, search, run and get results of\n",
    "**built-in** Driverless AI explainers."
   ]
  },
  {
   "cell_type": "markdown",
   "metadata": {},
   "source": [
    "## Install\n",
    "\n",
    "Run this notebook in Python environment where you downloaded and installed **generated** Driverless AI **client**. Generated client can be downloaded from Driverless AI server on the following URL:\n",
    "\n",
    "* `https://<host>:<port>/<context>/clients/py/old`\n",
    "\n",
    "For example:\n",
    "    \n",
    "* https://driverlessai.intranet.com:12345/clients/py/old\n",
    "* https://enterprise-puddle.h2o.ai/02d26869-7083-4351-95fa-6af57e0547b4/clients/py/old\n",
    "    \n",
    "And install the wheel (`x.xx.x` to be replaced with your Driverless AI version):\n",
    "\n",
    "```\n",
    "pip install ./h2oai_client-x.xx.x-py3-none-any.whl\n",
    "```\n",
    "\n",
    "Import required packages and modules:"
   ]
  },
  {
   "cell_type": "code",
   "execution_count": 63,
   "metadata": {},
   "outputs": [],
   "source": [
    "import json\n",
    "import os\n",
    "import pprint\n",
    "import time\n",
    "from random import randint\n",
    "\n",
    "import pandas\n",
    "import matplotlib.pyplot as plt\n",
    "\n",
    "import h2oai_client\n",
    "from h2oai_client import messages"
   ]
  },
  {
   "cell_type": "markdown",
   "metadata": {},
   "source": [
    "## Connect\n",
    "\n",
    "Connect to Driverless AI server - make sure to use the same user name and password as when signing in through the GUI:"
   ]
  },
  {
   "cell_type": "code",
   "execution_count": 64,
   "metadata": {},
   "outputs": [
    {
     "data": {
      "text/plain": [
       "'http://127.0.0.1:12345'"
      ]
     },
     "execution_count": 64,
     "metadata": {},
     "output_type": "execute_result"
    }
   ],
   "source": [
    "hostname = '127.0.0.1'\n",
    "address = 'http://' + hostname + ':12345'\n",
    "username = 'h2oai'\n",
    "password = 'h2oai'\n",
    "\n",
    "# h2oai = Client(\"http://localhost:12345\", \"h2oai\", \"h2oai\")\n",
    "h2oai = h2oai_client.Client(address = address, username = username, password = password)\n",
    "h2oai.address"
   ]
  },
  {
   "cell_type": "markdown",
   "metadata": {},
   "source": [
    "## List Explainers\n",
    "\n",
    "List available explainers:"
   ]
  },
  {
   "cell_type": "code",
   "execution_count": 65,
   "metadata": {
    "scrolled": true
   },
   "outputs": [
    {
     "name": "stdout",
     "output_type": "stream",
     "text": [
      "Explainer descriptor example:\n",
      "\n",
      "{'can_explain': ['regression', 'binomial'],\n",
      " 'description': 'Permutation-based feature importance shows how much a model’s '\n",
      "                'performance would change if a feature’s values were permuted. '\n",
      "                'If the feature has little predictive power, shuffling its '\n",
      "                'values should have little impact on the model’s performance. '\n",
      "                'If a feature is highly predictive, however, shuffling its '\n",
      "                'values should decrease the model’s performance. The '\n",
      "                'difference between the model’s performance before and after '\n",
      "                'permuting the feature provides the feature’s absolute '\n",
      "                'permutation importance.',\n",
      " 'explanation_scopes': ['global_scope'],\n",
      " 'explanations': [{'category': None,\n",
      "                   'explanation_type': 'global-feature-importance',\n",
      "                   'formats': [],\n",
      "                   'has_local': None,\n",
      "                   'name': 'GlobalFeatImpExplanation',\n",
      "                   'scope': 'global'}],\n",
      " 'id': 'h2oai.mli.byor.recipes.permutation_feat_imp_absolute_explainer.AbsolutePermutationFeatureImportanceExplainer',\n",
      " 'keywords': [],\n",
      " 'model_types': ['iid'],\n",
      " 'name': 'Absolute Permutation Feature Importance',\n",
      " 'parameters': [{'category': '',\n",
      "                 'comment': '',\n",
      "                 'description': 'Sample size.',\n",
      "                 'max_': 0.0,\n",
      "                 'min_': 100,\n",
      "                 'name': 'mli_sample_size',\n",
      "                 'predefined': [],\n",
      "                 'tags': [],\n",
      "                 'type': 'int',\n",
      "                 'val': 100000},\n",
      "                {'category': '',\n",
      "                 'comment': '',\n",
      "                 'description': 'The list of values that should be interpreted '\n",
      "                                'as missing values during data import. This '\n",
      "                                'applies to both numeric and string columns. '\n",
      "                                \"Note that 'nan' is always interpreted as a \"\n",
      "                                'missing value for numeric columns. Example: '\n",
      "                                '\"[\\'\\', \\'?\\', \\'None\\', \\'nan\\', \\'N/A\\', '\n",
      "                                '\\'unknown\\', \\'inf\\']\"',\n",
      "                 'max_': 0.0,\n",
      "                 'min_': 0.0,\n",
      "                 'name': 'missing_values',\n",
      "                 'predefined': [],\n",
      "                 'tags': [],\n",
      "                 'type': 'str',\n",
      "                 'val': ''},\n",
      "                {'category': '',\n",
      "                 'comment': 'Number of permutations to make per feature when '\n",
      "                            'computing\\n'\n",
      "                            '            feature importance.',\n",
      "                 'description': 'Number of Permutations for Feature Importance',\n",
      "                 'max_': 0.0,\n",
      "                 'min_': 0.0,\n",
      "                 'name': 'autodoc_feature_importance_num_perm',\n",
      "                 'predefined': [],\n",
      "                 'tags': [],\n",
      "                 'type': 'int',\n",
      "                 'val': 1},\n",
      "                {'category': '',\n",
      "                 'comment': 'Name of the scorer to be used to calculate '\n",
      "                            'feature\\n'\n",
      "                            '            importance. Leave blank to use '\n",
      "                            'experiments default scorer.',\n",
      "                 'description': 'Feature Importance Scorer',\n",
      "                 'max_': 0.0,\n",
      "                 'min_': 0.0,\n",
      "                 'name': 'autodoc_feature_importance_scorer',\n",
      "                 'predefined': [],\n",
      "                 'tags': [],\n",
      "                 'type': 'str',\n",
      "                 'val': ''}]}\n",
      "\n",
      "Explainers listing (name and ID):\n",
      "\n",
      "  Absolute Permutation Feature Importance: h2oai.mli.byor.recipes.permutation_feat_imp_absolute_explainer.AbsolutePermutationFeatureImportanceExplainer\n",
      "  AutoDoc: h2oai.mli.byor.recipes.autoreport_explainer.AutoReportExplainer\n",
      "  Disparate Impact Analysis: h2oaicore.mli.byor.recipes.dia_explainer.DiaExplainer\n",
      "  Interpretability Data Zip (Surrogate and Shapley Techniques): h2oaicore.mli.byor.recipes.surrogates_n_shapleys_explainer.MainSurrogatesAndShapleysExplainer\n",
      "  NLP Leave-one-covariate-out (LOCO): h2oaicore.mli.byor.recipes.text.nlp_loco_explainer_v2.NlpLocoExplainerVersion2\n",
      "  NLP Partial Dependence Plot: h2oaicore.mli.byor.recipes.text.nlp_dai_pd_ice_explainer.NlpDaiPdIceExplainer\n",
      "  NLP Tokenizer: h2oaicore.mli.byor.recipes.text.nlp_tokenizer_explainer.NlpTokenizerExplainer\n",
      "  NLP Vectorizer + Linear Model (VLM) Text Feature Importance: h2oaicore.mli.byor.recipes.text.nlp_vectorizer_linear_model_explainer.NlpVecLmExplainer\n",
      "  Original Feature Importance: h2oaicore.mli.byor.recipes.surrogates.original_feat_imp_explainer.OriginalFeatureImportanceExplainer\n",
      "  Partial Dependence Plot: h2oaicore.mli.byor.recipes.dai_pd_ice_explainer.DaiPdIceExplainer\n",
      "  Relative Permutation Feature Importance: h2oai.mli.byor.recipes.permutation_feat_imp_relative_explainer.RelativePermutationFeatureImportanceExplainer\n",
      "  Sensitivity Analysis: h2oaicore.mli.byor.recipes.sa_explainer.SaExplainer\n",
      "  Shapley Summary Plot for Original Features (Naive Shapley Method): h2oaicore.mli.byor.recipes.shapley_summary_explainer.ShapleySummaryOrigFeatExplainer\n",
      "  Shapley Values for Original Features (Kernel SHAP Method): h2oaicore.mli.byor.recipes.orig_kernel_shap_explainer.OriginalKernelShapExplainer\n",
      "  Shapley Values for Original Features (Naive Method): h2oaicore.mli.byor.recipes.original_contrib_explainer.NaiveShapleyExplainer\n",
      "  Shapley Values for Transformed Features: h2oaicore.mli.byor.recipes.transformed_shapley_explainer.TransformedShapleyExplainer\n",
      "  Surrogate Decision Tree: h2oaicore.mli.byor.recipes.surrogates.dt_surrogate_explainer.DecisionTreeSurrogateExplainer\n",
      "  Surrogate Random Forest Importance: h2oaicore.mli.byor.recipes.surrogates.rf_feat_imp_explainer.RandomForestFeatureImportanceExplainer\n",
      "  Surrogate Random Forest Leave-one-covariate-out (LOCO): h2oaicore.mli.byor.recipes.surrogates.rf_loco_explainer.RandomForestLocoExplainer\n",
      "  Surrogate Random Forest Partial Dependence Plot: h2oaicore.mli.byor.recipes.surrogates.rf_pd_explainer.RandomForestPartialDependenceExplainer\n",
      "  Transformed Feature Importance: h2oaicore.mli.byor.recipes.transformed_feat_imp_explainer.TransformedFeatureImportanceExplainer\n",
      "  k-LIME/LIME-SUP: h2oaicore.mli.byor.recipes.surrogates.klime_explainer.KLimeExplainer\n"
     ]
    }
   ],
   "source": [
    "explainers: list = h2oai.list_explainers(\n",
    "    experiment_types=None, \n",
    "    explanation_scopes=None,\n",
    "    dai_model_key=None,\n",
    "    keywords=None,\n",
    "    explainer_filter=[]\n",
    ")\n",
    "\n",
    "print(\"Explainer descriptor example:\\n\")\n",
    "pprint.pprint(explainers[0].dump())\n",
    "\n",
    "print(\"\\nExplainers listing (name and ID):\\n\")\n",
    "for explainer in explainers:\n",
    "    print(f\"  {explainer.name}: {explainer.id}\")"
   ]
  },
  {
   "cell_type": "markdown",
   "metadata": {},
   "source": [
    "**Descriptors** of both built-in explainers and custom explainers (uploaded \n",
    "by Driverless AI users) are returned by the server.\n",
    "\n",
    "**Descriptor** provides explainer metadata:\n",
    "\n",
    "* `id`\n",
    "   * Unique identifier which is used to identify the explainer.\n",
    "* `description`\n",
    "   * Brief explainer description.\n",
    "* `can_explain` \n",
    "   * Which experiment types can be explained - regression and/or binomial and/or multinomial.\n",
    "* `explanation_scopes`\n",
    "   * Does explainer provides global explanations, local explanations or both?\n",
    "* `explanations`\n",
    "   * Which types of explanations (like feature importance, decision tree, partial dependence) explainer provides and in which `formats` (like JSon, CSV or datatable frames) identified by MIME types.\n",
    "* `parameters`\n",
    "   * Overview of explainer parameters with types, default values and ranges."
   ]
  },
  {
   "cell_type": "markdown",
   "metadata": {},
   "source": [
    "## Filter Explainers\n",
    "\n",
    "Listing of explainers can be filtered using their metadata.\n",
    "\n",
    "Find explainers which can explain **binomial** experiments:"
   ]
  },
  {
   "cell_type": "code",
   "execution_count": 66,
   "metadata": {},
   "outputs": [
    {
     "name": "stdout",
     "output_type": "stream",
     "text": [
      "\n",
      "Explainers:\n",
      "\n",
      "  Absolute Permutation Feature Importance\n",
      "  AutoDoc\n",
      "  Disparate Impact Analysis\n",
      "  Interpretability Data Zip (Surrogate and Shapley Techniques)\n",
      "  NLP Leave-one-covariate-out (LOCO)\n",
      "  NLP Partial Dependence Plot\n",
      "  NLP Tokenizer\n",
      "  NLP Vectorizer + Linear Model (VLM) Text Feature Importance\n",
      "  Original Feature Importance\n",
      "  Partial Dependence Plot\n",
      "  Relative Permutation Feature Importance\n",
      "  Sensitivity Analysis\n",
      "  Shapley Summary Plot for Original Features (Naive Shapley Method)\n",
      "  Shapley Values for Original Features (Kernel SHAP Method)\n",
      "  Shapley Values for Original Features (Naive Method)\n",
      "  Shapley Values for Transformed Features\n",
      "  Surrogate Decision Tree\n",
      "  Surrogate Random Forest Importance\n",
      "  Surrogate Random Forest Leave-one-covariate-out (LOCO)\n",
      "  Surrogate Random Forest Partial Dependence Plot\n",
      "  Transformed Feature Importance\n",
      "  k-LIME/LIME-SUP\n"
     ]
    }
   ],
   "source": [
    "explainers: list = h2oai.list_explainers(\n",
    "    experiment_types=[\"binomial\"], \n",
    "    explanation_scopes=None,\n",
    "    dai_model_key=None,\n",
    "    keywords=None,\n",
    "    explainer_filter=[]\n",
    ")\n",
    "\n",
    "print(\"\\nExplainers:\\n\")\n",
    "for explainer in explainers:\n",
    "    print(f\"  {explainer.name}\")"
   ]
  },
  {
   "cell_type": "markdown",
   "metadata": {},
   "source": [
    "Find explainers which are compatible with particular Driverless AI **model**:"
   ]
  },
  {
   "cell_type": "code",
   "execution_count": 67,
   "metadata": {},
   "outputs": [
    {
     "name": "stdout",
     "output_type": "stream",
     "text": [
      "Searching for explainers compatible with model aa2c1046-59a9-11ec-8fae-e86a64888647 (training dataset: 612b3840-569d-11ec-94f7-e86a64888647)...\n",
      "\n",
      "Compatible explainers:\n",
      "\n",
      "  AutoDoc\n",
      "  Interpretability Data Zip (Surrogate and Shapley Techniques)\n",
      "  NLP Leave-one-covariate-out (LOCO)\n",
      "  NLP Partial Dependence Plot\n",
      "  NLP Tokenizer\n",
      "  Original Feature Importance\n",
      "  Partial Dependence Plot\n",
      "  Shapley Summary Plot for Original Features (Naive Shapley Method)\n",
      "  Shapley Values for Original Features (Kernel SHAP Method)\n",
      "  Shapley Values for Original Features (Naive Method)\n",
      "  Shapley Values for Transformed Features\n",
      "  Surrogate Decision Tree\n",
      "  Surrogate Random Forest Importance\n",
      "  Surrogate Random Forest Leave-one-covariate-out (LOCO)\n",
      "  Transformed Feature Importance\n"
     ]
    }
   ],
   "source": [
    "# using the first experiment\n",
    "models = h2oai.list_models(0, 1)\n",
    "if not len(models.models):\n",
    "    raise RuntimeError(\"No experiments - please create a new experiment\")\n",
    "    \n",
    "MODEL_KEY = models.models[0].key\n",
    "DATASET_KEY = models.models[0].parameters.dataset.key\n",
    "TARGET_COL = models.models[0].parameters.target_col\n",
    "\n",
    "print(f\"Searching for explainers compatible with model {MODEL_KEY} (training dataset: {DATASET_KEY})...\")\n",
    "explainers = h2oai.list_explainers(\n",
    "    dai_model_key=MODEL_KEY, \n",
    "    experiment_types=None,\n",
    "    explanation_scopes=None,\n",
    "    keywords=None,\n",
    "    explainer_filter=[]\n",
    ")\n",
    "\n",
    "print(\"\\nCompatible explainers:\\n\")\n",
    "for explainer in explainers:\n",
    "    print(f\"  {explainer.name}\")"
   ]
  },
  {
   "cell_type": "markdown",
   "metadata": {},
   "source": [
    "# Run Explainer\n",
    "\n",
    "Run **built-in** Driverless AI **Partial Dependence Plot explainer** shipped with Driverless AI server:"
   ]
  },
  {
   "cell_type": "code",
   "execution_count": 22,
   "metadata": {},
   "outputs": [
    {
     "data": {
      "text/plain": [
       "'h2oaicore.mli.byor.recipes.dai_pd_ice_explainer.DaiPdIceExplainer'"
      ]
     },
     "execution_count": 22,
     "metadata": {},
     "output_type": "execute_result"
    }
   ],
   "source": [
    "EXPLAINER_ID = [\n",
    "    explainer.id for explainer in explainers if \"Partial Dependence Plot\" == explainer.name\n",
    "][0]\n",
    "EXPLAINER_ID"
   ]
  },
  {
   "cell_type": "markdown",
   "metadata": {},
   "source": [
    "Use **interpretation parameters** to specify model and dataset to be explained:"
   ]
  },
  {
   "cell_type": "code",
   "execution_count": 33,
   "metadata": {},
   "outputs": [
    {
     "data": {
      "text/plain": [
       "{'common_params': {'target_col': 'EDUCATION',\n",
       "  'weight_col': None,\n",
       "  'prediction_col': None,\n",
       "  'drop_cols': None,\n",
       "  'sample_num_rows': None},\n",
       " 'model': {'key': 'aa2c1046-59a9-11ec-8fae-e86a64888647', 'display_name': ''},\n",
       " 'dataset': {'key': '612b3840-569d-11ec-94f7-e86a64888647',\n",
       "  'display_name': ''},\n",
       " 'validset': {'key': None, 'display_name': ''},\n",
       " 'testset': {'key': None, 'display_name': ''},\n",
       " 'use_raw_features': False,\n",
       " 'config_overrides': None,\n",
       " 'sequential_execution': True,\n",
       " 'debug_model_errors': False,\n",
       " 'debug_model_errors_class': ''}"
      ]
     },
     "execution_count": 33,
     "metadata": {},
     "output_type": "execute_result"
    }
   ],
   "source": [
    "params=h2oai_client.Client.build_common_dai_explainer_params(\n",
    "    target_col=TARGET_COL,\n",
    "    model_key=MODEL_KEY,\n",
    "    dataset_key=DATASET_KEY,\n",
    ")\n",
    "params.dump()"
   ]
  },
  {
   "cell_type": "markdown",
   "metadata": {},
   "source": [
    "**Run** explainer and use explainer **parameters** to calculate PD for `3` features only:"
   ]
  },
  {
   "cell_type": "code",
   "execution_count": 36,
   "metadata": {},
   "outputs": [
    {
     "name": "stdout",
     "output_type": "stream",
     "text": [
      "Running explainer: h2oaicore.mli.byor.recipes.dai_pd_ice_explainer.DaiPdIceExplainer ...\n"
     ]
    },
    {
     "data": {
      "text/plain": [
       "{'mli_key': '52988cee-59ac-11ec-8fae-e86a64888647',\n",
       " 'explainer_job_key': '52ae826a-59ac-11ec-8fae-e86a64888647',\n",
       " 'explainer_job': {'progress': 1.0,\n",
       "  'status': 0,\n",
       "  'error': '',\n",
       "  'message': 'Explainer 52ae826a-59ac-11ec-8fae-e86a64888647 run successfully finished',\n",
       "  'entity': {'id': 'h2oaicore.mli.byor.recipes.dai_pd_ice_explainer.DaiPdIceExplainer',\n",
       "   'name': 'Partial Dependence Plot',\n",
       "   'description': '',\n",
       "   'model_types': ['iid', 'time_series'],\n",
       "   'can_explain': ['regression', 'binomial', 'multinomial'],\n",
       "   'explanation_scopes': ['global_scope', 'local_scope'],\n",
       "   'explanations': [{'explanation_type': 'global-partial-dependence',\n",
       "     'name': 'DAI Partial Dependence Plot',\n",
       "     'category': 'DAI MODEL',\n",
       "     'scope': 'global',\n",
       "     'has_local': 'local-individual-conditional-explanation',\n",
       "     'formats': ['application/json']},\n",
       "    {'explanation_type': 'local-individual-conditional-explanation',\n",
       "     'name': 'DAI ICE',\n",
       "     'category': 'DAI MODEL',\n",
       "     'scope': 'local',\n",
       "     'has_local': None,\n",
       "     'formats': ['application/vnd.h2oai.json+datatable.jay']}],\n",
       "   'parameters': [],\n",
       "   'keywords': ['run-by-default', 'can-add-feature']},\n",
       "  'created': 1639135720.094391,\n",
       "  'duration': 17.304503679275513,\n",
       "  'child_explainers_job_keys': []}}"
      ]
     },
     "execution_count": 36,
     "metadata": {},
     "output_type": "execute_result"
    }
   ],
   "source": [
    "print(f\"Running explainer: {EXPLAINER_ID} ...\")\n",
    "\n",
    "run_jobs = h2oai.run_explainers_sync(\n",
    "    explainers=[\n",
    "        messages.Explainer(\n",
    "            explainer_id=EXPLAINER_ID,\n",
    "            explainer_params=json.dumps({ \"max_features\": 3}),\n",
    "    )],\n",
    "    params=params,\n",
    ")\n",
    "run_jobs[0].dump()"
   ]
  },
  {
   "cell_type": "code",
   "execution_count": 37,
   "metadata": {},
   "outputs": [],
   "source": [
    "mli_key = run_jobs[0].mli_key\n",
    "explainer_job_key = run_jobs[0].explainer_job_key\n",
    "explainer_job = run_jobs[0].explainer_job"
   ]
  },
  {
   "cell_type": "markdown",
   "metadata": {},
   "source": [
    "## Get Global Explanations\n",
    "\n",
    "Explainer run **job** descriptor provides information about **types** and **formats** of available explanations."
   ]
  },
  {
   "cell_type": "code",
   "execution_count": 38,
   "metadata": {
    "scrolled": true
   },
   "outputs": [
    {
     "name": "stdout",
     "output_type": "stream",
     "text": [
      "{'category': 'DAI MODEL',\n",
      " 'explanation_type': 'global-partial-dependence',\n",
      " 'formats': ['application/json'],\n",
      " 'has_local': 'local-individual-conditional-explanation',\n",
      " 'name': 'DAI Partial Dependence Plot',\n",
      " 'scope': 'global'}\n",
      "{'category': 'DAI MODEL',\n",
      " 'explanation_type': 'local-individual-conditional-explanation',\n",
      " 'formats': ['application/vnd.h2oai.json+datatable.jay'],\n",
      " 'has_local': None,\n",
      " 'name': 'DAI ICE',\n",
      " 'scope': 'local'}\n"
     ]
    }
   ],
   "source": [
    "for explanation in explainer_job.entity.explanations: pprint.pprint(explanation.dump())"
   ]
  },
  {
   "cell_type": "markdown",
   "metadata": {},
   "source": [
    "Job descriptor indicates that there is global (PD) explanation in **JSon** format - let's download it:"
   ]
  },
  {
   "cell_type": "code",
   "execution_count": 95,
   "metadata": {},
   "outputs": [
    {
     "name": "stdout",
     "output_type": "stream",
     "text": [
      "Explanation global-partial-dependence:\n",
      "  application/json:\n",
      "    http://127.0.0.1:12345/files/h2oai/mli_experiment_52988cee-59ac-11ec-8fae-e86a64888647/explainer_h2oaicore_mli_byor_recipes_dai_pd_ice_explainer_DaiPdIceExplainer_52ae826a-59ac-11ec-8fae-e86a64888647/global_partial_dependence/application_json/explanation.json\n",
      "      /tmp/explanation.json\n"
     ]
    }
   ],
   "source": [
    "BASE_URL = f\"{address}/files/\"\n",
    "for explanation in explainer_job.entity.explanations:\n",
    "    # lookup global explanation\n",
    "    if \"global\" in explanation.explanation_type:\n",
    "        for e_format in explanation.formats:\n",
    "            server_path: str = h2oai.get_explainer_result_url_path(\n",
    "                mli_key=mli_key,\n",
    "                explainer_job_key=explainer_job_key,\n",
    "                explanation_type=explanation.explanation_type,\n",
    "                explanation_format=e_format\n",
    "            )\n",
    "            print(f\"Explanation {explanation.explanation_type}:\\n  {e_format}:\\n    {BASE_URL}{server_path}\")\n",
    "\n",
    "            download_dir = \"/tmp\"\n",
    "            downloaded_artifact = h2oai.download(server_path, download_dir)\n",
    "            print(f\"      {downloaded_artifact}\")\n",
    "        break"
   ]
  },
  {
   "cell_type": "code",
   "execution_count": 96,
   "metadata": {
    "scrolled": true
   },
   "outputs": [
    {
     "name": "stdout",
     "output_type": "stream",
     "text": [
      "{\n",
      "    \"features\": {\n",
      "        \"LIMIT_BAL\": {\n",
      "            \"order\": 0,\n",
      "            \"feature_type\": [\n",
      "                \"numeric\"\n",
      "            ],\n",
      "            \"files\": {\n",
      "                \"graduate\": \"pd_feature_0_class_0.json\",\n",
      "                \"highschool\": \"pd_feature_0_class_1.json\",\n",
      "                \"other\": \"pd_feature_0_class_2.json\",\n",
      "                \"university\": \"pd_feature_0_class_3.json\"\n",
      "            }\n",
      "        },\n",
      "        \"AGE\": {\n",
      "            \"order\": 1,\n",
      "            \"feature_type\": [\n",
      "                \"numeric\"\n",
      "            ],\n",
      "            \"files\": {\n",
      "                \"graduate\": \"pd_feature_1_class_0.json\",\n",
      "                \"highschool\": \"pd_feature_1_class_1.json\",\n",
      "                \"other\": \"pd_feature_1_class_2.json\",\n",
      "                \"university\": \"pd_feature_1_class_3.json\"\n",
      "            }\n",
      "        },\n",
      "        \"MARRIAGE\": {\n",
      "            \"order\": 2,\n",
      "            \"feature_type\": [\n",
      "                \"categorical\"\n",
      "            ],\n",
      "            \"files\": {\n",
      "                \"graduate\": \"pd_feature_2_class_0.json\",\n",
      "                \"highschool\": \"pd_feature_2_class_1.json\",\n",
      "                \"other\": \"pd_feature_2_class_2.json\",\n",
      "                \"university\": \"pd_feature_2_class_3.json\"\n",
      "            }\n",
      "        }\n",
      "    },\n",
      "    \"metrics\": [],\n",
      "    \"default_class\": \"graduate\",\n",
      "    \"documentation\": \"Partial dependence (yellow) portrays the average prediction behavior of the Driverless AI model across the domain of an input variable along with +/- 1 standard deviation bands. ICE (grey) displays the prediction behavior for an individual row of data when an input variable is toggled across its domain.\"\n",
      "}"
     ]
    }
   ],
   "source": [
    "!cat {download_dir}/explanation.json"
   ]
  },
  {
   "cell_type": "markdown",
   "metadata": {},
   "source": [
    "Downloaded explanation **index** file contains information of per-feature per-class PD frames and other artifacts which migh be used to download particular explanation. Let's open data file for particular feature `LIMIT_BAL` and class `highschool`."
   ]
  },
  {
   "cell_type": "code",
   "execution_count": 114,
   "metadata": {},
   "outputs": [
    {
     "name": "stdout",
     "output_type": "stream",
     "text": [
      "PD index:\n",
      "\n",
      "{'features': {'LIMIT_BAL': {'order': 0, 'feature_type': ['numeric'], 'files': {'graduate': 'pd_feature_0_class_0.json', 'highschool': 'pd_feature_0_class_1.json', 'other': 'pd_feature_0_class_2.json', 'university': 'pd_feature_0_class_3.json'}}, 'AGE': {'order': 1, 'feature_type': ['numeric'], 'files': {'graduate': 'pd_feature_1_class_0.json', 'highschool': 'pd_feature_1_class_1.json', 'other': 'pd_feature_1_class_2.json', 'university': 'pd_feature_1_class_3.json'}}, 'MARRIAGE': {'order': 2, 'feature_type': ['categorical'], 'files': {'graduate': 'pd_feature_2_class_0.json', 'highschool': 'pd_feature_2_class_1.json', 'other': 'pd_feature_2_class_2.json', 'university': 'pd_feature_2_class_3.json'}}}, 'metrics': [], 'default_class': 'graduate', 'documentation': 'Partial dependence (yellow) portrays the average prediction behavior of the Driverless AI model across the domain of an input variable along with +/- 1 standard deviation bands. ICE (grey) displays the prediction behavior for an individual row of data when an input variable is toggled across its domain.'}\n"
     ]
    }
   ],
   "source": [
    "with open(f\"{download_dir}/explanation.json\") as json_file:\n",
    "    pd_idx_json = json.load(json_file)\n",
    "\n",
    "print(f\"PD index:\\n\\n{pd_idx_json}\")"
   ]
  },
  {
   "cell_type": "code",
   "execution_count": 115,
   "metadata": {},
   "outputs": [
    {
     "data": {
      "image/png": "[encoded data removed]",
      "text/plain": [
       "<Figure size 432x288 with 1 Axes>"
      ]
     },
     "metadata": {
      "needs_background": "light"
     },
     "output_type": "display_data"
    }
   ],
   "source": [
    "feature = \"LIMIT_BAL\"\n",
    "clazz = \"highschool\"\n",
    "\n",
    "downloaded_path = h2oai.download(\n",
    "    server_path.replace(\n",
    "        \"explanation.json\", \n",
    "        pd_idx_json[\"features\"][feature][\"files\"][clazz],  # feature file name\n",
    "    ), \n",
    "    download_dir\n",
    ")\n",
    "\n",
    "with open(downloaded_path) as json_file:\n",
    "    pd_json = json.load(json_file)\n",
    "\n",
    "# show PD data for particular feature\n",
    "pandas.DataFrame(\n",
    "    pd_json[\"data\"]\n",
    ").plot(\n",
    "    kind='line', title=f\"PD for {feature}\", legend=True,\n",
    "    x=\"bin\",\n",
    "    y=\"pd\",\n",
    ")\n",
    "plt.show()"
   ]
  },
  {
   "cell_type": "markdown",
   "metadata": {},
   "source": [
    "## Get Local Explanations\n",
    "\n",
    "Explainer run **job** descriptor also provides information about **types** and **formats** of available **local** explanations. Explainations for individual dataset rows (instances, examples) might be downloaded with job and descriptor data.\n",
    "\n",
    "Let's download and **visualize** local partial dependence data i.e. **ICE** for feature `LIMIT_BAL` and class `0`."
   ]
  },
  {
   "cell_type": "code",
   "execution_count": 111,
   "metadata": {},
   "outputs": [
    {
     "name": "stdout",
     "output_type": "stream",
     "text": [
      "Local explanation:\n",
      "\n",
      "{\"prediction\": 0.5072236657142639, \"feature_value\": 120000, \"data\": [{\"bin\": \"10000\", \"ice\": 0.3889581859111786}, {\"bin\": \"109000\", \"ice\": 0.44998666644096375}, {\"bin\": \"158500\", \"ice\": 0.5110692977905273}, {\"bin\": \"208000\", \"ice\": 0.5475447773933411}, {\"bin\": \"257500\", \"ice\": 0.5460748672485352}, {\"bin\": \"307000\", \"ice\": 0.561781644821167}, {\"bin\": \"356500\", \"ice\": 0.5803569555282593}, {\"bin\": \"406000\", \"ice\": 0.5703412890434265}, {\"bin\": \"455500\", \"ice\": 0.608392596244812}, {\"bin\": \"505000\", \"ice\": 0.6127075552940369}, {\"bin\": \"554500\", \"ice\": 0.6266824007034302}, {\"bin\": \"604000\", \"ice\": 0.627246618270874}, {\"bin\": \"653500\", \"ice\": 0.625383198261261}, {\"bin\": \"703000\", \"ice\": 0.625383198261261}, {\"bin\": \"752500\", \"ice\": 0.625383198261261}, {\"bin\": \"802000\", \"ice\": 0.625383198261261}, {\"bin\": \"851500\", \"ice\": 0.625383198261261}, {\"bin\": \"901000\", \"ice\": 0.625383198261261}, {\"bin\": \"950500\", \"ice\": 0.625383198261261}, {\"bin\": \"1000000\", \"ice\": 0.625383198261261}]}\n"
     ]
    }
   ],
   "source": [
    "row = 1\n",
    "feature = \"LIMIT_BAL\"\n",
    "clazz = \"graduate\"  # note labels map at the end of index file\n",
    "\n",
    "local_explanation = h2oai.get_explainer_local_result(\n",
    "    mli_key=mli_key,\n",
    "    explainer_job_key=explainer_job_key,\n",
    "    explanation_type=\"local-individual-conditional-explanation\",\n",
    "    explanation_format=\"application/vnd.h2oai.json+datatable.jay\",\n",
    "    id_column_value=row,\n",
    "    id_column_name=\"\",\n",
    "    page_offset=0,\n",
    "    page_size=1,\n",
    "    result_format=\"application/json\",\n",
    "    explanation_filter=[\n",
    "        messages.FilterEntry(\"explain_feature\", feature),\n",
    "        messages.FilterEntry(\"explain_class\", clazz),\n",
    "    ],\n",
    ")\n",
    "\n",
    "print(f\"Local explanation:\\n\\n{local_explanation}\")"
   ]
  },
  {
   "cell_type": "code",
   "execution_count": 109,
   "metadata": {},
   "outputs": [
    {
     "data": {
      "image/png": "[encoded data removed]",
      "text/plain": [
       "<Figure size 432x288 with 1 Axes>"
      ]
     },
     "metadata": {
      "needs_background": "light"
     },
     "output_type": "display_data"
    }
   ],
   "source": [
    "import pandas\n",
    "import matplotlib.pyplot as plt\n",
    "\n",
    "pandas.DataFrame(\n",
    "    json.loads(local_explanation)[\"data\"]\n",
    ").plot(\n",
    "    kind='line', title=\"ICE\", legend=False,\n",
    "    x=\"bin\", y=\"ice\",\n",
    ")\n",
    "plt.show()"
   ]
  },
  {
   "cell_type": "markdown",
   "metadata": {},
   "source": [
    "**All** explainer's working data and explanations might be downloaded as ZIP archive:"
   ]
  },
  {
   "cell_type": "code",
   "execution_count": 49,
   "metadata": {},
   "outputs": [
    {
     "name": "stdout",
     "output_type": "stream",
     "text": [
      "http://127.0.0.1:12345/files/h2oai/mli_experiment_52988cee-59ac-11ec-8fae-e86a64888647/explainer_h2oaicore_mli_byor_recipes_dai_pd_ice_explainer_DaiPdIceExplainer_52ae826a-59ac-11ec-8fae-e86a64888647.zip\n",
      "  /tmp/explainer_h2oaicore_mli_byor_recipes_dai_pd_ice_explainer_DaiPdIceExplainer_52ae826a-59ac-11ec-8fae-e86a64888647.zip\n"
     ]
    }
   ],
   "source": [
    "server_path = h2oai.get_explainer_snapshot_url_path(\n",
    "    mli_key=mli_key,\n",
    "    explainer_job_key=explainer_job_key,\n",
    ")\n",
    "snapshot_url = f\"{BASE_URL}{server_path}\"\n",
    "print(snapshot_url)\n",
    "downloaded_artifact = h2oai.download(server_path, download_dir)\n",
    "print(f\"  {downloaded_artifact}\")"
   ]
  },
  {
   "cell_type": "markdown",
   "metadata": {},
   "source": [
    "Explainer **log** can be downloaded from:"
   ]
  },
  {
   "cell_type": "code",
   "execution_count": 47,
   "metadata": {},
   "outputs": [
    {
     "name": "stdout",
     "output_type": "stream",
     "text": [
      "http://127.0.0.1:12345/files/h2oai/mli_experiment_52988cee-59ac-11ec-8fae-e86a64888647/explainer_h2oaicore_mli_byor_recipes_dai_pd_ice_explainer_DaiPdIceExplainer_52ae826a-59ac-11ec-8fae-e86a64888647/log/explainer_run_52ae826a-59ac-11ec-8fae-e86a64888647.log\n"
     ]
    }
   ],
   "source": [
    "server_path = h2oai.get_explainer_run_log_url_path(\n",
    "    mli_key=mli_key,\n",
    "    explainer_job_key=explainer_job_key,\n",
    ")\n",
    "print(f\"{BASE_URL}{server_path}\")"
   ]
  },
  {
   "cell_type": "markdown",
   "metadata": {},
   "source": [
    "URL from above can be used to **download** choosen **custom** recipe result representation."
   ]
  },
  {
   "cell_type": "code",
   "execution_count": null,
   "metadata": {},
   "outputs": [],
   "source": []
  },
  {
   "cell_type": "code",
   "execution_count": null,
   "metadata": {},
   "outputs": [],
   "source": []
  },
  {
   "cell_type": "markdown",
   "metadata": {},
   "source": [
    "# Explain Model with ALL Compatible Explainers\n",
    "\n",
    "In the explainer above 1 particular explainer was run. Running **all** compatible explainers is even simpler:"
   ]
  },
  {
   "cell_type": "code",
   "execution_count": 116,
   "metadata": {
    "scrolled": true
   },
   "outputs": [
    {
     "name": "stdout",
     "output_type": "stream",
     "text": [
      "Running all compatible explainers...\n",
      "\n"
     ]
    },
    {
     "data": {
      "text/plain": [
       "[<h2oai_client.messages.ExplainerJobStatus at 0x7f67f3596340>,\n",
       " <h2oai_client.messages.ExplainerJobStatus at 0x7f67f377ba90>,\n",
       " <h2oai_client.messages.ExplainerJobStatus at 0x7f67f3817730>,\n",
       " <h2oai_client.messages.ExplainerJobStatus at 0x7f67f3517fd0>,\n",
       " <h2oai_client.messages.ExplainerJobStatus at 0x7f67f3517f40>,\n",
       " <h2oai_client.messages.ExplainerJobStatus at 0x7f67f350e7c0>,\n",
       " <h2oai_client.messages.ExplainerJobStatus at 0x7f67f364d6d0>,\n",
       " <h2oai_client.messages.ExplainerJobStatus at 0x7f67f36400d0>,\n",
       " <h2oai_client.messages.ExplainerJobStatus at 0x7f67f357b940>,\n",
       " <h2oai_client.messages.ExplainerJobStatus at 0x7f67f351c130>]"
      ]
     },
     "execution_count": 116,
     "metadata": {},
     "output_type": "execute_result"
    }
   ],
   "source": [
    "print(f\"Running all compatible explainers...\\n\")\n",
    "run_jobs = h2oai.run_explainers_sync(\n",
    "    explainers=[],\n",
    "    params=h2oai_client.Client.build_common_dai_explainer_params(\n",
    "        target_col=TARGET_COL,\n",
    "        model_key=MODEL_KEY,\n",
    "        dataset_key=DATASET_KEY,\n",
    "    ),\n",
    ")\n",
    "run_jobs"
   ]
  },
  {
   "cell_type": "code",
   "execution_count": 56,
   "metadata": {},
   "outputs": [
    {
     "name": "stdout",
     "output_type": "stream",
     "text": [
      "Ran 10 explainers:\n",
      "\n",
      "Shapley Values for Original Features (Naive Method): 0\n",
      "Shapley Summary Plot for Original Features (Naive Shapley Method): 0\n",
      "Interpretability Data Zip (Surrogate and Shapley Techniques): 0\n",
      "Original Feature Importance: 0\n",
      "Surrogate Random Forest Importance: 0\n",
      "Surrogate Random Forest Leave-one-covariate-out (LOCO): 0\n",
      "Transformed Feature Importance: 0\n",
      "Surrogate Decision Tree: 0\n",
      "Shapley Values for Transformed Features: 0\n",
      "Partial Dependence Plot: 0\n"
     ]
    }
   ],
   "source": [
    "print(f\"Ran {len(run_jobs)} explainers:\\n\")\n",
    "for run_job in run_jobs:\n",
    "    print(f\"{run_job.explainer_job.entity.name}: {run_job.explainer_job.status}\")"
   ]
  },
  {
   "cell_type": "markdown",
   "metadata": {},
   "source": [
    "In order to check the status of particular explainer just check its job descriptor:"
   ]
  },
  {
   "cell_type": "code",
   "execution_count": 58,
   "metadata": {},
   "outputs": [
    {
     "data": {
      "text/plain": [
       "0"
      ]
     },
     "execution_count": 58,
     "metadata": {},
     "output_type": "execute_result"
    }
   ],
   "source": [
    "run_jobs[0].explainer_job.status"
   ]
  },
  {
   "cell_type": "markdown",
   "metadata": {},
   "source": [
    "Job descriptor with all the details might be dumped as follows:"
   ]
  },
  {
   "cell_type": "code",
   "execution_count": 61,
   "metadata": {},
   "outputs": [
    {
     "name": "stdout",
     "output_type": "stream",
     "text": [
      "{'explainer_job': {'child_explainers_job_keys': [],\n",
      "                   'created': 1639137102.88826,\n",
      "                   'duration': 28.347280740737915,\n",
      "                   'entity': {'can_explain': ['regression',\n",
      "                                              'binomial',\n",
      "                                              'multinomial'],\n",
      "                              'description': '',\n",
      "                              'explanation_scopes': ['global_scope',\n",
      "                                                     'local_scope'],\n",
      "                              'explanations': [{'category': 'DAI MODEL',\n",
      "                                                'explanation_type': 'global-feature-importance',\n",
      "                                                'formats': ['application/vnd.h2oai.json+datatable.jay',\n",
      "                                                            'application/vnd.h2oai.json+csv',\n",
      "                                                            'application/json'],\n",
      "                                                'has_local': 'local-feature-importance',\n",
      "                                                'name': 'Shapley on Original '\n",
      "                                                        'Features (Naive '\n",
      "                                                        'Shapley Method)',\n",
      "                                                'scope': 'global'},\n",
      "                                               {'category': 'CUSTOM',\n",
      "                                                'explanation_type': 'local-feature-importance',\n",
      "                                                'formats': ['application/vnd.h2oai.json+datatable.jay'],\n",
      "                                                'has_local': None,\n",
      "                                                'name': 'Shapley on Original '\n",
      "                                                        'Features (Naive '\n",
      "                                                        'Shapley Method)',\n",
      "                                                'scope': 'local'}],\n",
      "                              'id': 'h2oaicore.mli.byor.recipes.original_contrib_explainer.NaiveShapleyExplainer',\n",
      "                              'keywords': ['run-by-default', 'is_fast'],\n",
      "                              'model_types': ['iid'],\n",
      "                              'name': 'Shapley Values for Original Features '\n",
      "                                      '(Naive Method)',\n",
      "                              'parameters': []},\n",
      "                   'error': '',\n",
      "                   'message': 'Explainer 891475dc-59af-11ec-8fae-e86a64888647 '\n",
      "                              'run successfully finished',\n",
      "                   'progress': 1.0,\n",
      "                   'status': 0},\n",
      " 'explainer_job_key': '891475dc-59af-11ec-8fae-e86a64888647',\n",
      " 'mli_key': '88fb8dec-59af-11ec-8fae-e86a64888647'}\n"
     ]
    }
   ],
   "source": [
    "pprint.pprint(run_jobs[0].dump())"
   ]
  },
  {
   "cell_type": "markdown",
   "metadata": {},
   "source": [
    "Explanations, snapshot, log and other artifacts might be downloaded in the same way as was demonstrated in case of 1 explainer run."
   ]
  },
  {
   "cell_type": "code",
   "execution_count": null,
   "metadata": {},
   "outputs": [],
   "source": []
  }
 ],
 "metadata": {
  "kernelspec": {
   "display_name": "h2oai-client-1-10-0",
   "language": "python",
   "name": "h2oai-client-1-10-0"
  },
  "language_info": {
   "codemirror_mode": {
    "name": "ipython",
    "version": 3
   },
   "file_extension": ".py",
   "mimetype": "text/x-python",
   "name": "python",
   "nbconvert_exporter": "python",
   "pygments_lexer": "ipython3",
   "version": "3.8.12"
  }
 },
 "nbformat": 4,
 "nbformat_minor": 4
}
