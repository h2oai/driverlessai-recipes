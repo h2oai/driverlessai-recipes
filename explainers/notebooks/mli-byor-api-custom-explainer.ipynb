{
 "cells": [
  {
   "cell_type": "markdown",
   "metadata": {},
   "source": [
    "# Driverless AI MLI BYOR: Custom Explainers\n",
    "\n",
    "Driverless AI provides robust interpretability of machine learning models\n",
    "to explain modeling results in a human-readable format. In the \n",
    "Machine Learning Interpetability (MLI) view, Driverless AI offers various\n",
    "techniques and methodologies for interpreting and explaining the results\n",
    "of its models. These techniques are implemented as extensible set of recipes.\n",
    "\n",
    "This notebook demonstrates how to list, search, run and get results of\n",
    "**custom** Driverless AI explainer **recipe**."
   ]
  },
  {
   "cell_type": "markdown",
   "metadata": {},
   "source": [
    "## Install\n",
    "\n",
    "Run this notebook in Python environment where you downloaded and installed **generated** Driverless AI **client**. Generated client can be downloaded from Driverless AI server on the following URL:\n",
    "\n",
    "* `https://<host>:<port>/<context>/clients/py/old`\n",
    "\n",
    "For example:\n",
    "    \n",
    "* https://driverlessai.intranet.com:12345/clients/py/old\n",
    "* https://enterprise-puddle.h2o.ai/02d26869-7083-4351-95fa-6af57e0547b4/clients/py/old\n",
    "    \n",
    "And install the wheel (`x.xx.x` to be replaced with your Driverless AI version):\n",
    "\n",
    "```\n",
    "pip install ./h2oai_client-x.xx.x-py3-none-any.whl\n",
    "```\n",
    "\n",
    "Import required packages and modules:"
   ]
  },
  {
   "cell_type": "code",
   "execution_count": 49,
   "metadata": {},
   "outputs": [],
   "source": [
    "import json\n",
    "import os\n",
    "import pprint\n",
    "import time\n",
    "from random import randint\n",
    "\n",
    "import pandas\n",
    "import matplotlib.pyplot as plt\n",
    "\n",
    "import h2oai_client\n",
    "from h2oai_client import messages"
   ]
  },
  {
   "cell_type": "markdown",
   "metadata": {},
   "source": [
    "## Connect\n",
    "\n",
    "Connect to Driverless AI server - make sure to use the same user name and password as when signing in through the GUI:"
   ]
  },
  {
   "cell_type": "code",
   "execution_count": 7,
   "metadata": {},
   "outputs": [
    {
     "data": {
      "text/plain": [
       "'http://127.0.0.1:12345'"
      ]
     },
     "execution_count": 7,
     "metadata": {},
     "output_type": "execute_result"
    }
   ],
   "source": [
    "hostname = '127.0.0.1'\n",
    "address = 'http://' + hostname + ':12345'\n",
    "username = 'h2oai'\n",
    "password = 'h2oai'\n",
    "\n",
    "# h2oai = Client(\"http://localhost:12345\", \"h2oai\", \"h2oai\")\n",
    "h2oai = h2oai_client.Client(address = address, username = username, password = password)\n",
    "h2oai.address"
   ]
  },
  {
   "cell_type": "markdown",
   "metadata": {},
   "source": [
    "## List Explainers\n",
    "\n",
    "List available explainers:"
   ]
  },
  {
   "cell_type": "code",
   "execution_count": 8,
   "metadata": {
    "scrolled": true
   },
   "outputs": [
    {
     "name": "stdout",
     "output_type": "stream",
     "text": [
      "Explainer descriptor example:\n",
      "\n",
      "{'can_explain': ['regression', 'binomial'],\n",
      " 'description': 'Permutation-based feature importance shows how much a model’s '\n",
      "                'performance would change if a feature’s values were permuted. '\n",
      "                'If the feature has little predictive power, shuffling its '\n",
      "                'values should have little impact on the model’s performance. '\n",
      "                'If a feature is highly predictive, however, shuffling its '\n",
      "                'values should decrease the model’s performance. The '\n",
      "                'difference between the model’s performance before and after '\n",
      "                'permuting the feature provides the feature’s absolute '\n",
      "                'permutation importance.',\n",
      " 'explanation_scopes': ['global_scope'],\n",
      " 'explanations': [{'category': None,\n",
      "                   'explanation_type': 'global-feature-importance',\n",
      "                   'formats': [],\n",
      "                   'has_local': None,\n",
      "                   'name': 'GlobalFeatImpExplanation',\n",
      "                   'scope': 'global'}],\n",
      " 'id': 'h2oai.mli.byor.recipes.permutation_feat_imp_absolute_explainer.AbsolutePermutationFeatureImportanceExplainer',\n",
      " 'keywords': [],\n",
      " 'model_types': ['iid'],\n",
      " 'name': 'Absolute Permutation Feature Importance',\n",
      " 'parameters': [{'category': '',\n",
      "                 'comment': '',\n",
      "                 'description': 'Sample size.',\n",
      "                 'max_': 0.0,\n",
      "                 'min_': 100,\n",
      "                 'name': 'mli_sample_size',\n",
      "                 'predefined': [],\n",
      "                 'tags': [],\n",
      "                 'type': 'int',\n",
      "                 'val': 100000},\n",
      "                {'category': '',\n",
      "                 'comment': '',\n",
      "                 'description': 'The list of values that should be interpreted '\n",
      "                                'as missing values during data import. This '\n",
      "                                'applies to both numeric and string columns. '\n",
      "                                \"Note that 'nan' is always interpreted as a \"\n",
      "                                'missing value for numeric columns. Example: '\n",
      "                                '\"[\\'\\', \\'?\\', \\'None\\', \\'nan\\', \\'N/A\\', '\n",
      "                                '\\'unknown\\', \\'inf\\']\"',\n",
      "                 'max_': 0.0,\n",
      "                 'min_': 0.0,\n",
      "                 'name': 'missing_values',\n",
      "                 'predefined': [],\n",
      "                 'tags': [],\n",
      "                 'type': 'str',\n",
      "                 'val': ''},\n",
      "                {'category': '',\n",
      "                 'comment': 'Number of permutations to make per feature when '\n",
      "                            'computing\\n'\n",
      "                            '            feature importance.',\n",
      "                 'description': 'Number of Permutations for Feature Importance',\n",
      "                 'max_': 0.0,\n",
      "                 'min_': 0.0,\n",
      "                 'name': 'autodoc_feature_importance_num_perm',\n",
      "                 'predefined': [],\n",
      "                 'tags': [],\n",
      "                 'type': 'int',\n",
      "                 'val': 1},\n",
      "                {'category': '',\n",
      "                 'comment': 'Name of the scorer to be used to calculate '\n",
      "                            'feature\\n'\n",
      "                            '            importance. Leave blank to use '\n",
      "                            'experiments default scorer.',\n",
      "                 'description': 'Feature Importance Scorer',\n",
      "                 'max_': 0.0,\n",
      "                 'min_': 0.0,\n",
      "                 'name': 'autodoc_feature_importance_scorer',\n",
      "                 'predefined': [],\n",
      "                 'tags': [],\n",
      "                 'type': 'str',\n",
      "                 'val': ''}]}\n",
      "\n",
      "Explainers listing (name and ID):\n",
      "\n",
      "  Absolute Permutation Feature Importance: h2oai.mli.byor.recipes.permutation_feat_imp_absolute_explainer.AbsolutePermutationFeatureImportanceExplainer\n",
      "  AutoDoc: h2oai.mli.byor.recipes.autoreport_explainer.AutoReportExplainer\n",
      "  Disparate Impact Analysis: h2oaicore.mli.byor.recipes.dia_explainer.DiaExplainer\n",
      "  Interpretability Data Zip (Surrogate and Shapley Techniques): h2oaicore.mli.byor.recipes.surrogates_n_shapleys_explainer.MainSurrogatesAndShapleysExplainer\n",
      "  NLP Leave-one-covariate-out (LOCO): h2oaicore.mli.byor.recipes.text.nlp_loco_explainer_v2.NlpLocoExplainerVersion2\n",
      "  NLP Partial Dependence Plot: h2oaicore.mli.byor.recipes.text.nlp_dai_pd_ice_explainer.NlpDaiPdIceExplainer\n",
      "  NLP Tokenizer: h2oaicore.mli.byor.recipes.text.nlp_tokenizer_explainer.NlpTokenizerExplainer\n",
      "  NLP Vectorizer + Linear Model (VLM) Text Feature Importance: h2oaicore.mli.byor.recipes.text.nlp_vectorizer_linear_model_explainer.NlpVecLmExplainer\n",
      "  Original Feature Importance: h2oaicore.mli.byor.recipes.surrogates.original_feat_imp_explainer.OriginalFeatureImportanceExplainer\n",
      "  Partial Dependence Plot: h2oaicore.mli.byor.recipes.dai_pd_ice_explainer.DaiPdIceExplainer\n",
      "  Relative Permutation Feature Importance: h2oai.mli.byor.recipes.permutation_feat_imp_relative_explainer.RelativePermutationFeatureImportanceExplainer\n",
      "  Sensitivity Analysis: h2oaicore.mli.byor.recipes.sa_explainer.SaExplainer\n",
      "  Shapley Summary Plot for Original Features (Naive Shapley Method): h2oaicore.mli.byor.recipes.shapley_summary_explainer.ShapleySummaryOrigFeatExplainer\n",
      "  Shapley Values for Original Features (Kernel SHAP Method): h2oaicore.mli.byor.recipes.orig_kernel_shap_explainer.OriginalKernelShapExplainer\n",
      "  Shapley Values for Original Features (Naive Method): h2oaicore.mli.byor.recipes.original_contrib_explainer.NaiveShapleyExplainer\n",
      "  Shapley Values for Transformed Features: h2oaicore.mli.byor.recipes.transformed_shapley_explainer.TransformedShapleyExplainer\n",
      "  Surrogate Decision Tree: h2oaicore.mli.byor.recipes.surrogates.dt_surrogate_explainer.DecisionTreeSurrogateExplainer\n",
      "  Surrogate Random Forest Importance: h2oaicore.mli.byor.recipes.surrogates.rf_feat_imp_explainer.RandomForestFeatureImportanceExplainer\n",
      "  Surrogate Random Forest Leave-one-covariate-out (LOCO): h2oaicore.mli.byor.recipes.surrogates.rf_loco_explainer.RandomForestLocoExplainer\n",
      "  Surrogate Random Forest Partial Dependence Plot: h2oaicore.mli.byor.recipes.surrogates.rf_pd_explainer.RandomForestPartialDependenceExplainer\n",
      "  Transformed Feature Importance: h2oaicore.mli.byor.recipes.transformed_feat_imp_explainer.TransformedFeatureImportanceExplainer\n",
      "  k-LIME/LIME-SUP: h2oaicore.mli.byor.recipes.surrogates.klime_explainer.KLimeExplainer\n"
     ]
    }
   ],
   "source": [
    "explainers: list = h2oai.list_explainers(\n",
    "    experiment_types=None, \n",
    "    explanation_scopes=None,\n",
    "    dai_model_key=None,\n",
    "    keywords=None,\n",
    "    explainer_filter=[]\n",
    ")\n",
    "\n",
    "print(\"Explainer descriptor example:\\n\")\n",
    "pprint.pprint(explainers[0].dump())\n",
    "\n",
    "print(\"\\nExplainers listing (name and ID):\\n\")\n",
    "for explainer in explainers:\n",
    "    print(f\"  {explainer.name}: {explainer.id}\")"
   ]
  },
  {
   "cell_type": "markdown",
   "metadata": {},
   "source": [
    "**Descriptors** of both built-in explainers and custom explainers (uploaded \n",
    "by Driverless AI users) are returned by the server.\n",
    "\n",
    "**Descriptor** provides explainer metadata:\n",
    "\n",
    "* `id`\n",
    "   * Unique identifier which is used to identify the explainer.\n",
    "* `description`\n",
    "   * Brief explainer description.\n",
    "* `can_explain` \n",
    "   * Which experiment types can be explained - regression and/or binomial and/or multinomial.\n",
    "* `explanation_scopes`\n",
    "   * Does explainer provides global explanations, local explanations or both?\n",
    "* `explanations`\n",
    "   * Which types of explanations (like feature importance, decision tree, partial dependence) explainer provides and in which `formats` (like JSon, CSV or datatable frames) identified by MIME types.\n",
    "* `parameters`\n",
    "   * Overview of explainer parameters with types, default values and ranges.\n",
    "   \n",
    "Explainers listing can be filtered using their metadata. Please refer to **built-in** explainers demo notebook for more details."
   ]
  },
  {
   "cell_type": "markdown",
   "metadata": {},
   "source": [
    "# Upload\n",
    "\n",
    "Custom explainer recipe can be either uploaded from **local filesystem** or **URL**. Check explainer examples:\n",
    "\n",
    "* https://github.com/h2oai/driverlessai-recipes/tree/master/explainers/explainers\n",
    "\n"
   ]
  },
  {
   "cell_type": "markdown",
   "metadata": {},
   "source": [
    "Let's use PD/ICE explainer URL template from aforementioned repository (you can obviously use any other explainer you like):\n",
    "\n",
    "* https://raw.githubusercontent.com/h2oai/driverlessai-recipes/master/explainers/explainers/templates/template_pd_explainer.py"
   ]
  },
  {
   "cell_type": "code",
   "execution_count": 9,
   "metadata": {},
   "outputs": [],
   "source": [
    "EXPLAINER_URL = (\n",
    "    \"https://raw.githubusercontent.com/h2oai/\"\n",
    "    \"driverlessai-recipes/master/explainers/explainers/templates/\"\n",
    "    \"template_pd_explainer.py\"\n",
    ")"
   ]
  },
  {
   "cell_type": "code",
   "execution_count": 20,
   "metadata": {},
   "outputs": [
    {
     "data": {
      "text/plain": [
       "'87281c64-59ec-11ec-8d3c-e86a64888647'"
      ]
     },
     "execution_count": 20,
     "metadata": {},
     "output_type": "execute_result"
    }
   ],
   "source": [
    "recipe_upload_job_key = h2oai.create_custom_recipe_from_url(EXPLAINER_URL)\n",
    "recipe_upload_job_key"
   ]
  },
  {
   "cell_type": "code",
   "execution_count": 30,
   "metadata": {},
   "outputs": [
    {
     "name": "stdout",
     "output_type": "stream",
     "text": [
      "Checking upload of 87281c64-59ec-11ec-8d3c-e86a64888647 recipe progress...\n",
      "\n",
      "Upload job:\n",
      "\n",
      "{'progress': 1, 'status': 0, 'error': \"Detected the use of the 'master' branch. Please make sure to use the branch of the driverlessai-recipes repo that matches the DAI version.\", 'message': 'Template PD/ICE explainer:\\nStarting Acceptance Tests: PD and ICE explainer template which can be used to create example with partial dependence (global) and individual conditional explanations (local) explanations.', 'entity': {'key': '87281c64-59ec-11ec-8d3c-e86a64888647', 'name': 'template_pd_explainer', 'fpath': None, 'url': 'https://raw.githubusercontent.com/h2oai/driverlessai-recipes/master/explainers/explainers/templates/template_pd_explainer.py', 'data_file': '', 'type': '', 'models': [], 'scorers': [], 'transformers': [], 'data_files': [], 'pretransformers': [], 'datas': [], 'explainers': [{'id': 'False_template_pd_explainer_5e4f5ff0_contentexplainer.TemplatePartialDependenceExplainer', 'name': 'Template PD/ICE explainer', 'description': 'PD and ICE explainer template which can be used to create example with partial dependence (global) and individual conditional explanations (local) explanations.', 'model_types': ['iid'], 'can_explain': ['regression', 'binomial', 'multinomial'], 'explanation_scopes': ['global_scope', 'local_scope'], 'explanations': [{'explanation_type': 'global-partial-dependence', 'name': 'PartialDependenceExplanation', 'category': None, 'scope': 'global', 'has_local': None, 'formats': []}, {'explanation_type': 'local-individual-conditional-explanation', 'name': 'IndividualConditionalExplanation', 'category': None, 'scope': 'local', 'has_local': None, 'formats': []}, {'explanation_type': 'global-work-dir-archive', 'name': 'WorkDirArchiveExplanation', 'category': None, 'scope': 'global', 'has_local': None, 'formats': []}], 'parameters': [{'name': 'features', 'description': 'List of features for which to compute PD/ICE.', 'comment': '', 'type': 'multilist', 'val': '', 'predefined': [], 'tags': [], 'min_': 0.0, 'max_': 0.0, 'category': ''}], 'keywords': ['template']}], 'deactivated_recipes': []}, 'created': 1639163295.6350048}\n",
      "\n",
      "Uploaded explainer ID:\n",
      "\n",
      "False_template_pd_explainer_5e4f5ff0_contentexplainer.TemplatePartialDependenceExplainer\n"
     ]
    }
   ],
   "source": [
    "progress = -1\n",
    "timeout = 20\n",
    "while progress and timeout:\n",
    "    print(f\"Checking upload of {recipe_upload_job_key} recipe progress...\\n\")\n",
    "    job = h2oai.get_custom_recipe_job(recipe_upload_job_key)\n",
    "    progress: int = job.status\n",
    "    if progress == 0:  # success\n",
    "        print(f\"Upload job:\\n\\n{job.dump()}\")\n",
    "        break\n",
    "    elif progress > 0:\n",
    "        raise RuntimeException(\"Recipe upload failed\")\n",
    "    sleep(1)\n",
    "    timeout -= 1\n",
    "\n",
    "EXPLAINER_ID = job.entity.explainers[0].id\n",
    "print(f\"\\nUploaded explainer ID:\\n\\n{EXPLAINER_ID}\")"
   ]
  },
  {
   "cell_type": "markdown",
   "metadata": {},
   "source": [
    "# Compatibility\n",
    "\n",
    "Find **models** which are compatible with uploaded recipe:"
   ]
  },
  {
   "cell_type": "code",
   "execution_count": 36,
   "metadata": {},
   "outputs": [
    {
     "name": "stdout",
     "output_type": "stream",
     "text": [
      "\n",
      "Compatible models:\n",
      "\n",
      "  MULTI\n"
     ]
    },
    {
     "data": {
      "text/plain": [
       "('aa2c1046-59a9-11ec-8fae-e86a64888647',\n",
       " '612b3840-569d-11ec-94f7-e86a64888647',\n",
       " 'EDUCATION')"
      ]
     },
     "execution_count": 36,
     "metadata": {},
     "output_type": "execute_result"
    }
   ],
   "source": [
    "models = h2oai.list_explainable_models(\n",
    "    explainer_id=EXPLAINER_ID,\n",
    "    offset=0, \n",
    "    size=1\n",
    ")\n",
    "if not len(models.models):\n",
    "    raise RuntimeError(\"No experiments - please create an experiment compatible with explainer\")\n",
    "\n",
    "print(\"\\nCompatible models:\\n\")\n",
    "for model in models.models:\n",
    "    print(f\"  {model.description}\")\n",
    "    \n",
    "MODEL_KEY = models.models[0].key\n",
    "DATASET_KEY = models.models[0].parameters.dataset.key\n",
    "TARGET_COL = models.models[0].parameters.target_col\n",
    "\n",
    "(MODEL_KEY, DATASET_KEY, TARGET_COL)"
   ]
  },
  {
   "cell_type": "markdown",
   "metadata": {},
   "source": [
    "# Run Custom Explainer\n",
    "\n",
    "Run **uploaded custom** explainer shipped with Driverless AI server. Use **interpretation parameters** to specify model and dataset to be explained:"
   ]
  },
  {
   "cell_type": "code",
   "execution_count": 37,
   "metadata": {},
   "outputs": [
    {
     "data": {
      "text/plain": [
       "{'common_params': {'target_col': 'EDUCATION',\n",
       "  'weight_col': None,\n",
       "  'prediction_col': None,\n",
       "  'drop_cols': None,\n",
       "  'sample_num_rows': None},\n",
       " 'model': {'key': 'aa2c1046-59a9-11ec-8fae-e86a64888647', 'display_name': ''},\n",
       " 'dataset': {'key': '612b3840-569d-11ec-94f7-e86a64888647',\n",
       "  'display_name': ''},\n",
       " 'validset': {'key': None, 'display_name': ''},\n",
       " 'testset': {'key': None, 'display_name': ''},\n",
       " 'use_raw_features': False,\n",
       " 'config_overrides': None,\n",
       " 'sequential_execution': True,\n",
       " 'debug_model_errors': False,\n",
       " 'debug_model_errors_class': ''}"
      ]
     },
     "execution_count": 37,
     "metadata": {},
     "output_type": "execute_result"
    }
   ],
   "source": [
    "params=h2oai_client.Client.build_common_dai_explainer_params(\n",
    "    target_col=TARGET_COL,\n",
    "    model_key=MODEL_KEY,\n",
    "    dataset_key=DATASET_KEY,\n",
    ")\n",
    "params.dump()"
   ]
  },
  {
   "cell_type": "markdown",
   "metadata": {},
   "source": [
    "**Run** explainer and use explainer **parameters** to calculate PD for `3` features only:"
   ]
  },
  {
   "cell_type": "code",
   "execution_count": 38,
   "metadata": {},
   "outputs": [
    {
     "name": "stdout",
     "output_type": "stream",
     "text": [
      "Running explainer: False_template_pd_explainer_5e4f5ff0_contentexplainer.TemplatePartialDependenceExplainer ...\n"
     ]
    },
    {
     "data": {
      "text/plain": [
       "{'mli_key': 'c9ab3796-59ed-11ec-8d3c-e86a64888647',\n",
       " 'explainer_job_key': 'c9c5c3f4-59ed-11ec-8d3c-e86a64888647',\n",
       " 'explainer_job': {'progress': 1.0,\n",
       "  'status': 0,\n",
       "  'error': '',\n",
       "  'message': 'Explainer c9c5c3f4-59ed-11ec-8d3c-e86a64888647 run successfully finished',\n",
       "  'entity': {'id': 'False_template_pd_explainer_5e4f5ff0_contentexplainer.TemplatePartialDependenceExplainer',\n",
       "   'name': 'Template PD/ICE explainer',\n",
       "   'description': '',\n",
       "   'model_types': ['iid'],\n",
       "   'can_explain': ['regression', 'binomial', 'multinomial'],\n",
       "   'explanation_scopes': ['global_scope', 'local_scope'],\n",
       "   'explanations': [{'explanation_type': 'global-partial-dependence',\n",
       "     'name': 'Template PD/ICE',\n",
       "     'category': 'EXAMPLE',\n",
       "     'scope': 'global',\n",
       "     'has_local': 'local-individual-conditional-explanation',\n",
       "     'formats': ['application/json']},\n",
       "    {'explanation_type': 'local-individual-conditional-explanation',\n",
       "     'name': 'Template ICE',\n",
       "     'category': 'EXAMPLE',\n",
       "     'scope': 'local',\n",
       "     'has_local': None,\n",
       "     'formats': ['application/vnd.h2oai.json+datatable.jay']},\n",
       "    {'explanation_type': 'global-work-dir-archive',\n",
       "     'name': 'Template PD/ICE ZIP',\n",
       "     'category': 'EXAMPLE',\n",
       "     'scope': 'global',\n",
       "     'has_local': None,\n",
       "     'formats': ['application/zip']}],\n",
       "   'parameters': [],\n",
       "   'keywords': ['template']},\n",
       "  'created': 1639163837.225454,\n",
       "  'duration': 1.5049633979797363,\n",
       "  'child_explainers_job_keys': []}}"
      ]
     },
     "execution_count": 38,
     "metadata": {},
     "output_type": "execute_result"
    }
   ],
   "source": [
    "print(f\"Running explainer: {EXPLAINER_ID} ...\")\n",
    "\n",
    "run_jobs = h2oai.run_explainers_sync(\n",
    "    explainers=[\n",
    "        messages.Explainer(\n",
    "            explainer_id=EXPLAINER_ID,\n",
    "            explainer_params=json.dumps({ \"max_features\": 3}),\n",
    "    )],\n",
    "    params=params,\n",
    ")\n",
    "run_jobs[0].dump()"
   ]
  },
  {
   "cell_type": "code",
   "execution_count": 39,
   "metadata": {},
   "outputs": [],
   "source": [
    "mli_key = run_jobs[0].mli_key\n",
    "explainer_job_key = run_jobs[0].explainer_job_key\n",
    "explainer_job = run_jobs[0].explainer_job"
   ]
  },
  {
   "cell_type": "markdown",
   "metadata": {},
   "source": [
    "## Get Global Explanations\n",
    "\n",
    "Explainer run **job** descriptor provides information about **types** and **formats** of available explanations."
   ]
  },
  {
   "cell_type": "code",
   "execution_count": 40,
   "metadata": {
    "scrolled": true
   },
   "outputs": [
    {
     "name": "stdout",
     "output_type": "stream",
     "text": [
      "{'category': 'EXAMPLE',\n",
      " 'explanation_type': 'global-partial-dependence',\n",
      " 'formats': ['application/json'],\n",
      " 'has_local': 'local-individual-conditional-explanation',\n",
      " 'name': 'Template PD/ICE',\n",
      " 'scope': 'global'}\n",
      "{'category': 'EXAMPLE',\n",
      " 'explanation_type': 'local-individual-conditional-explanation',\n",
      " 'formats': ['application/vnd.h2oai.json+datatable.jay'],\n",
      " 'has_local': None,\n",
      " 'name': 'Template ICE',\n",
      " 'scope': 'local'}\n",
      "{'category': 'EXAMPLE',\n",
      " 'explanation_type': 'global-work-dir-archive',\n",
      " 'formats': ['application/zip'],\n",
      " 'has_local': None,\n",
      " 'name': 'Template PD/ICE ZIP',\n",
      " 'scope': 'global'}\n"
     ]
    }
   ],
   "source": [
    "for explanation in explainer_job.entity.explanations: pprint.pprint(explanation.dump())"
   ]
  },
  {
   "cell_type": "markdown",
   "metadata": {},
   "source": [
    "Job descriptor indicates that there is global (PD) explanation in **JSon** format - let's download it:"
   ]
  },
  {
   "cell_type": "code",
   "execution_count": 42,
   "metadata": {},
   "outputs": [
    {
     "name": "stdout",
     "output_type": "stream",
     "text": [
      "Explanation global-partial-dependence:\n",
      "  application/json:\n",
      "    http://127.0.0.1:12345/files/h2oai/mli_experiment_c9ab3796-59ed-11ec-8d3c-e86a64888647/explainer_False_template_pd_explainer_5e4f5ff0_contentexplainer_TemplatePartialDependenceExplainer_c9c5c3f4-59ed-11ec-8d3c-e86a64888647/global_partial_dependence/application_json/explanation.json\n",
      "      /tmp/explanation.json\n"
     ]
    }
   ],
   "source": [
    "BASE_URL = f\"{address}/files/\"\n",
    "for explanation in explainer_job.entity.explanations:\n",
    "    # lookup global explanation\n",
    "    if \"global\" in explanation.explanation_type:\n",
    "        for e_format in explanation.formats:\n",
    "            server_path: str = h2oai.get_explainer_result_url_path(\n",
    "                mli_key=mli_key,\n",
    "                explainer_job_key=explainer_job_key,\n",
    "                explanation_type=explanation.explanation_type,\n",
    "                explanation_format=e_format\n",
    "            )\n",
    "            print(f\"Explanation {explanation.explanation_type}:\\n  {e_format}:\\n    {BASE_URL}{server_path}\")\n",
    "\n",
    "            download_dir = \"/tmp\"\n",
    "            downloaded_artifact = h2oai.download(server_path, download_dir)\n",
    "            print(f\"      {downloaded_artifact}\")\n",
    "        break"
   ]
  },
  {
   "cell_type": "code",
   "execution_count": 43,
   "metadata": {
    "scrolled": true
   },
   "outputs": [
    {
     "name": "stdout",
     "output_type": "stream",
     "text": [
      "{\n",
      "    \"features\": {\n",
      "        \"feature_1\": {\n",
      "            \"order\": 0,\n",
      "            \"feature_type\": [\n",
      "                \"categorical\"\n",
      "            ],\n",
      "            \"files\": {\n",
      "                \"class_A\": \"pd_feature_0_class_0.json\",\n",
      "                \"class_B\": \"pd_feature_0_class_1.json\",\n",
      "                \"class_C\": \"pd_feature_0_class_2.json\"\n",
      "            }\n",
      "        },\n",
      "        \"feature_2\": {\n",
      "            \"order\": 1,\n",
      "            \"feature_type\": [\n",
      "                \"numeric\"\n",
      "            ],\n",
      "            \"files\": {\n",
      "                \"class_A\": \"pd_feature_1_class_0.json\",\n",
      "                \"class_B\": \"pd_feature_1_class_1.json\",\n",
      "                \"class_C\": \"pd_feature_1_class_2.json\"\n",
      "            }\n",
      "        }\n",
      "    },\n",
      "    \"metrics\": [\n",
      "        {\n",
      "            \"RMSE\": 0.029\n",
      "        },\n",
      "        {\n",
      "            \"SD\": 3.1\n",
      "        }\n",
      "    ],\n",
      "    \"default_class\": \"class_A\",\n",
      "    \"documentation\": \"PD and ICE explainer template which can be used to create example with partial dependence (global) and individual conditional explanations (local) explanations.\"\n",
      "}"
     ]
    }
   ],
   "source": [
    "!cat {download_dir}/explanation.json"
   ]
  },
  {
   "cell_type": "markdown",
   "metadata": {},
   "source": [
    "Downloaded explanation **index** file contains information of per-feature per-class PD frames and other artifacts which migh be used to download particular explanation. Let's open data file for particular feature `feature_1` and class `class_A`."
   ]
  },
  {
   "cell_type": "code",
   "execution_count": 44,
   "metadata": {},
   "outputs": [
    {
     "name": "stdout",
     "output_type": "stream",
     "text": [
      "PD index:\n",
      "\n",
      "{'features': {'feature_1': {'order': 0, 'feature_type': ['categorical'], 'files': {'class_A': 'pd_feature_0_class_0.json', 'class_B': 'pd_feature_0_class_1.json', 'class_C': 'pd_feature_0_class_2.json'}}, 'feature_2': {'order': 1, 'feature_type': ['numeric'], 'files': {'class_A': 'pd_feature_1_class_0.json', 'class_B': 'pd_feature_1_class_1.json', 'class_C': 'pd_feature_1_class_2.json'}}}, 'metrics': [{'RMSE': 0.029}, {'SD': 3.1}], 'default_class': 'class_A', 'documentation': 'PD and ICE explainer template which can be used to create example with partial dependence (global) and individual conditional explanations (local) explanations.'}\n"
     ]
    }
   ],
   "source": [
    "with open(f\"{download_dir}/explanation.json\") as json_file:\n",
    "    pd_idx_json = json.load(json_file)\n",
    "\n",
    "print(f\"PD index:\\n\\n{pd_idx_json}\")"
   ]
  },
  {
   "cell_type": "code",
   "execution_count": 50,
   "metadata": {},
   "outputs": [
    {
     "data": {
      "image/png": "[encoded data removed]",
      "text/plain": [
       "<Figure size 432x288 with 1 Axes>"
      ]
     },
     "metadata": {
      "needs_background": "light"
     },
     "output_type": "display_data"
    }
   ],
   "source": [
    "feature = \"feature_1\"\n",
    "clazz = \"class_A\"\n",
    "\n",
    "downloaded_path = h2oai.download(\n",
    "    server_path.replace(\n",
    "        \"explanation.json\", \n",
    "        pd_idx_json[\"features\"][feature][\"files\"][clazz],  # feature file name\n",
    "    ), \n",
    "    download_dir\n",
    ")\n",
    "\n",
    "with open(downloaded_path) as json_file:\n",
    "    pd_json = json.load(json_file)\n",
    "\n",
    "# show PD data for particular feature\n",
    "pandas.DataFrame(\n",
    "    pd_json[\"data\"]\n",
    ").plot(\n",
    "    kind='line', title=f\"PD for {feature}\", legend=True,\n",
    "    x=\"bin\",\n",
    "    y=\"pd\",\n",
    ")\n",
    "plt.show()"
   ]
  },
  {
   "cell_type": "markdown",
   "metadata": {},
   "source": [
    "## Get Local Explanations\n",
    "\n",
    "Explainer run **job** descriptor also provides information about **types** and **formats** of available **local** explanations. Explainations for individual dataset rows (instances, examples) might be downloaded with job and descriptor data.\n",
    "\n",
    "Let's download and **visualize** local partial dependence data i.e. **ICE** for feature `feature_1` and class `class_A`."
   ]
  },
  {
   "cell_type": "code",
   "execution_count": 51,
   "metadata": {},
   "outputs": [
    {
     "name": "stdout",
     "output_type": "stream",
     "text": [
      "Local explanation:\n",
      "\n",
      "{\"prediction\": 0.8946140365149179, \"feature_value\": null, \"data\": [{\"bin\": \"-2\", \"ice\": 0.6607221248061429}, {\"bin\": \"-1\", \"ice\": 0.8500350678984244}, {\"bin\": \"0\", \"ice\": 0.8590345872890129}, {\"bin\": \"1\", \"ice\": 0.9019237796387912}, {\"bin\": \"2\", \"ice\": 0.014497705930532456}, {\"bin\": \"3\", \"ice\": 0.1615777588777586}, {\"bin\": \"4\", \"ice\": 0.9211793168428482}, {\"bin\": \"5\", \"ice\": 0.9697409041574396}, {\"bin\": \"6\", \"ice\": 0.5536619593147493}, {\"bin\": \"7\", \"ice\": 0.19689020656684897}, {\"bin\": \"8\", \"ice\": 0.7591244328671031}]}\n"
     ]
    }
   ],
   "source": [
    "row = 1\n",
    "feature = \"feature_1\"\n",
    "clazz = \"class_A\"  # note labels map at the end of index file\n",
    "\n",
    "local_explanation = h2oai.get_explainer_local_result(\n",
    "    mli_key=mli_key,\n",
    "    explainer_job_key=explainer_job_key,\n",
    "    explanation_type=\"local-individual-conditional-explanation\",\n",
    "    explanation_format=\"application/vnd.h2oai.json+datatable.jay\",\n",
    "    id_column_value=row,\n",
    "    id_column_name=\"\",\n",
    "    page_offset=0,\n",
    "    page_size=1,\n",
    "    result_format=\"application/json\",\n",
    "    explanation_filter=[\n",
    "        messages.FilterEntry(\"explain_feature\", feature),\n",
    "        messages.FilterEntry(\"explain_class\", clazz),\n",
    "    ],\n",
    ")\n",
    "\n",
    "print(f\"Local explanation:\\n\\n{local_explanation}\")"
   ]
  },
  {
   "cell_type": "code",
   "execution_count": 52,
   "metadata": {},
   "outputs": [
    {
     "data": {
      "image/png": "[encoded data removed]",
      "text/plain": [
       "<Figure size 432x288 with 1 Axes>"
      ]
     },
     "metadata": {
      "needs_background": "light"
     },
     "output_type": "display_data"
    }
   ],
   "source": [
    "import pandas\n",
    "import matplotlib.pyplot as plt\n",
    "\n",
    "pandas.DataFrame(\n",
    "    json.loads(local_explanation)[\"data\"]\n",
    ").plot(\n",
    "    kind='line', title=\"ICE\", legend=False,\n",
    "    x=\"bin\", y=\"ice\",\n",
    ")\n",
    "plt.show()"
   ]
  },
  {
   "cell_type": "markdown",
   "metadata": {},
   "source": [
    "**All** explainer's working data and explanations might be downloaded as ZIP archive:"
   ]
  },
  {
   "cell_type": "code",
   "execution_count": 53,
   "metadata": {},
   "outputs": [
    {
     "name": "stdout",
     "output_type": "stream",
     "text": [
      "http://127.0.0.1:12345/files/h2oai/mli_experiment_c9ab3796-59ed-11ec-8d3c-e86a64888647/explainer_False_template_pd_explainer_5e4f5ff0_contentexplainer_TemplatePartialDependenceExplainer_c9c5c3f4-59ed-11ec-8d3c-e86a64888647.zip\n",
      "  /tmp/explainer_False_template_pd_explainer_5e4f5ff0_contentexplainer_TemplatePartialDependenceExplainer_c9c5c3f4-59ed-11ec-8d3c-e86a64888647.zip\n"
     ]
    }
   ],
   "source": [
    "server_path = h2oai.get_explainer_snapshot_url_path(\n",
    "    mli_key=mli_key,\n",
    "    explainer_job_key=explainer_job_key,\n",
    ")\n",
    "snapshot_url = f\"{BASE_URL}{server_path}\"\n",
    "print(snapshot_url)\n",
    "downloaded_artifact = h2oai.download(server_path, download_dir)\n",
    "print(f\"  {downloaded_artifact}\")"
   ]
  },
  {
   "cell_type": "markdown",
   "metadata": {},
   "source": [
    "Explainer **log** can be downloaded from:"
   ]
  },
  {
   "cell_type": "code",
   "execution_count": 54,
   "metadata": {},
   "outputs": [
    {
     "name": "stdout",
     "output_type": "stream",
     "text": [
      "http://127.0.0.1:12345/files/h2oai/mli_experiment_c9ab3796-59ed-11ec-8d3c-e86a64888647/explainer_False_template_pd_explainer_5e4f5ff0_contentexplainer_TemplatePartialDependenceExplainer_c9c5c3f4-59ed-11ec-8d3c-e86a64888647/log/explainer_run_c9c5c3f4-59ed-11ec-8d3c-e86a64888647.log\n"
     ]
    }
   ],
   "source": [
    "server_path = h2oai.get_explainer_run_log_url_path(\n",
    "    mli_key=mli_key,\n",
    "    explainer_job_key=explainer_job_key,\n",
    ")\n",
    "print(f\"{BASE_URL}{server_path}\")"
   ]
  },
  {
   "cell_type": "markdown",
   "metadata": {},
   "source": [
    "URL from above can be used to **download** choosen **custom** recipe result representation."
   ]
  },
  {
   "cell_type": "code",
   "execution_count": null,
   "metadata": {},
   "outputs": [],
   "source": []
  }
 ],
 "metadata": {
  "kernelspec": {
   "display_name": "h2oai-client-1-10-0",
   "language": "python",
   "name": "h2oai-client-1-10-0"
  },
  "language_info": {
   "codemirror_mode": {
    "name": "ipython",
    "version": 3
   },
   "file_extension": ".py",
   "mimetype": "text/x-python",
   "name": "python",
   "nbconvert_exporter": "python",
   "pygments_lexer": "ipython3",
   "version": "3.8.12"
  }
 },
 "nbformat": 4,
 "nbformat_minor": 4
}
